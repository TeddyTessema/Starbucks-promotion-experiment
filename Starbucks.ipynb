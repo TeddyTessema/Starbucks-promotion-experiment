{
 "cells": [
  {
   "cell_type": "markdown",
   "metadata": {},
   "source": [
    "## Portfolio Exercise: Starbucks\n",
    "<br>\n",
    "\n",
    "<img src=\"https://opj.ca/wp-content/uploads/2018/02/New-Starbucks-Logo-1200x969.jpg\" width=\"200\" height=\"200\">\n",
    "<br>\n",
    "<br>\n",
    " \n",
    "#### Background Information\n",
    "\n",
    "The dataset you will be provided in this portfolio exercise was originally used as a take-home assignment provided by Starbucks for their job candidates. The data for this exercise consists of about 120,000 data points split in a 2:1 ratio among training and test files. In the experiment simulated by the data, an advertising promotion was tested to see if it would bring more customers to purchase a specific product priced at $10. Since it costs the company 0.15 to send out each promotion, it would be best to limit that promotion only to those that are most receptive to the promotion. Each data point includes one column indicating whether or not an individual was sent a promotion for the product, and one column indicating whether or not that individual eventually purchased that product. Each individual also has seven additional features associated with them, which are provided abstractly as V1-V7.\n",
    "\n",
    "#### Optimization Strategy\n",
    "\n",
    "Your task is to use the training data to understand what patterns in V1-V7 to indicate that a promotion should be provided to a user. Specifically, your goal is to maximize the following metrics:\n",
    "\n",
    "* **Incremental Response Rate (IRR)** \n",
    "\n",
    "IRR depicts how many more customers purchased the product with the promotion, as compared to if they didn't receive the promotion. Mathematically, it's the ratio of the number of purchasers in the promotion group to the total number of customers in the purchasers group (_treatment_) minus the ratio of the number of purchasers in the non-promotional group to the total number of customers in the non-promotional group (_control_).\n",
    "\n",
    "$$ IRR = \\frac{purch_{treat}}{cust_{treat}} - \\frac{purch_{ctrl}}{cust_{ctrl}} $$\n",
    "\n",
    "\n",
    "* **Net Incremental Revenue (NIR)**\n",
    "\n",
    "NIR depicts how much is made (or lost) by sending out the promotion. Mathematically, this is 10 times the total number of purchasers that received the promotion minus 0.15 times the number of promotions sent out, minus 10 times the number of purchasers who were not given the promotion.\n",
    "\n",
    "$$ NIR = (10\\cdot purch_{treat} - 0.15 \\cdot cust_{treat}) - 10 \\cdot purch_{ctrl}$$\n",
    "\n",
    "For a full description of what Starbucks provides to candidates see the [instructions available here](https://drive.google.com/open?id=18klca9Sef1Rs6q8DW4l7o349r8B70qXM).\n",
    "\n",
    "Below you can find the training data provided.  Explore the data and different optimization strategies.\n",
    "\n",
    "#### How To Test Your Strategy?\n",
    "\n",
    "When you feel like you have an optimization strategy, complete the `promotion_strategy` function to pass to the `test_results` function.  \n",
    "From past data, we know there are four possible outomes:\n",
    "\n",
    "Table of actual promotion vs. predicted promotion customers:  \n",
    "\n",
    "<table>\n",
    "<tr><th></th><th colspan = '2'>Actual</th></tr>\n",
    "<tr><th>Predicted</th><th>Yes</th><th>No</th></tr>\n",
    "<tr><th>Yes</th><td>I</td><td>II</td></tr>\n",
    "<tr><th>No</th><td>III</td><td>IV</td></tr>\n",
    "</table>\n",
    "\n",
    "The metrics are only being compared for the individuals we predict should obtain the promotion – that is, quadrants I and II.  Since the first set of individuals that receive the promotion (in the training set) receive it randomly, we can expect that quadrants I and II will have approximately equivalent participants.  \n",
    "\n",
    "Comparing quadrant I to II then gives an idea of how well your promotion strategy will work in the future. \n",
    "\n",
    "Get started by reading in the data below.  See how each variable or combination of variables along with a promotion influences the chance of purchasing.  When you feel like you have a strategy for who should receive a promotion, test your strategy against the test dataset used in the final `test_results` function."
   ]
  },
  {
   "cell_type": "code",
   "execution_count": null,
   "metadata": {},
   "outputs": [],
   "source": [
    "# check version number\n",
    "import imblearn\n",
    "print(imblearn.__version__)"
   ]
  },
  {
   "cell_type": "code",
   "execution_count": null,
   "metadata": {},
   "outputs": [],
   "source": []
  },
  {
   "cell_type": "code",
   "execution_count": 18,
   "metadata": {},
   "outputs": [
    {
     "ename": "ModuleNotFoundError",
     "evalue": "No module named 'imblearn'",
     "output_type": "error",
     "traceback": [
      "\u001b[0;31m---------------------------------------------------------------------------\u001b[0m",
      "\u001b[0;31mModuleNotFoundError\u001b[0m                       Traceback (most recent call last)",
      "\u001b[0;32m<ipython-input-18-4c783c1dae81>\u001b[0m in \u001b[0;36m<module>\u001b[0;34m()\u001b[0m\n\u001b[1;32m     13\u001b[0m \u001b[0;32mfrom\u001b[0m \u001b[0msklearn\u001b[0m\u001b[0;34m.\u001b[0m\u001b[0mpreprocessing\u001b[0m \u001b[0;32mimport\u001b[0m \u001b[0mStandardScaler\u001b[0m\u001b[0;34m\u001b[0m\u001b[0;34m\u001b[0m\u001b[0m\n\u001b[1;32m     14\u001b[0m \u001b[0;32mfrom\u001b[0m \u001b[0msklearn\u001b[0m \u001b[0;32mimport\u001b[0m \u001b[0mneighbors\u001b[0m\u001b[0;34m,\u001b[0m\u001b[0mdatasets\u001b[0m\u001b[0;34m\u001b[0m\u001b[0;34m\u001b[0m\u001b[0m\n\u001b[0;32m---> 15\u001b[0;31m \u001b[0;32mfrom\u001b[0m \u001b[0mimblearn\u001b[0m\u001b[0;34m.\u001b[0m\u001b[0mover_sampling\u001b[0m \u001b[0;32mimport\u001b[0m \u001b[0mSMOTE\u001b[0m\u001b[0;34m\u001b[0m\u001b[0;34m\u001b[0m\u001b[0m\n\u001b[0m\u001b[1;32m     16\u001b[0m \u001b[0;32mfrom\u001b[0m \u001b[0msklearn\u001b[0m\u001b[0;34m.\u001b[0m\u001b[0msklearn\u001b[0m\u001b[0;34m.\u001b[0m\u001b[0mdecomposition\u001b[0m \u001b[0;32mimport\u001b[0m \u001b[0mPCA\u001b[0m\u001b[0;34m\u001b[0m\u001b[0;34m\u001b[0m\u001b[0m\n\u001b[1;32m     17\u001b[0m \u001b[0;32mfrom\u001b[0m \u001b[0msklearn\u001b[0m\u001b[0;34m.\u001b[0m\u001b[0msklearn\u001b[0m\u001b[0;34m.\u001b[0m\u001b[0mneighbors\u001b[0m \u001b[0;32mimport\u001b[0m \u001b[0mKNeighborsClassifier\u001b[0m\u001b[0;34m\u001b[0m\u001b[0;34m\u001b[0m\u001b[0m\n",
      "\u001b[0;31mModuleNotFoundError\u001b[0m: No module named 'imblearn'"
     ]
    }
   ],
   "source": [
    "# load in packages\n",
    "from itertools import combinations\n",
    "\n",
    "from test_results import test_results, score\n",
    "import numpy as np\n",
    "import pandas as pd\n",
    "import scipy as sp\n",
    "import sklearn as sk\n",
    "from sklearn.metrics import precision_score, recall_score, classification_report,confusion_matrix\n",
    "from sklearn.model_selection import train_test_split, cross_val_score\n",
    "import matplotlib.pyplot as plt\n",
    "import seaborn as sns\n",
    "from sklearn.preprocessing import StandardScaler\n",
    "from sklearn import neighbors,datasets\n",
    "from imblearn.over_sampling import SMOTE\n",
    "from sklearn.sklearn.decomposition import PCA\n",
    "from sklearn.sklearn.neighbors import KNeighborsClassifier\n",
    "%matplotlib inline\n",
    "from sklearn.linear_model import LogisticRegression\n",
    "\n",
    "# load in the data\n",
    "train_data = pd.read_csv('/Users/tewodros/Downloads/Starbucks-promotion-experiment/code/training.csv')\n",
    "train_data.head()"
   ]
  },
  {
   "cell_type": "code",
   "execution_count": 2,
   "metadata": {},
   "outputs": [
    {
     "data": {
      "text/plain": "(84534, 10)"
     },
     "execution_count": 2,
     "metadata": {},
     "output_type": "execute_result"
    }
   ],
   "source": [
    "# check the shape\n",
    "train_data.shape"
   ]
  },
  {
   "cell_type": "code",
   "execution_count": 3,
   "metadata": {},
   "outputs": [
    {
     "name": "stdout",
     "output_type": "stream",
     "text": [
      "<class 'pandas.core.frame.DataFrame'>\n",
      "RangeIndex: 84534 entries, 0 to 84533\n",
      "Data columns (total 10 columns):\n",
      "ID           84534 non-null int64\n",
      "Promotion    84534 non-null object\n",
      "purchase     84534 non-null int64\n",
      "V1           84534 non-null int64\n",
      "V2           84534 non-null float64\n",
      "V3           84534 non-null float64\n",
      "V4           84534 non-null int64\n",
      "V5           84534 non-null int64\n",
      "V6           84534 non-null int64\n",
      "V7           84534 non-null int64\n",
      "dtypes: float64(2), int64(7), object(1)\n",
      "memory usage: 6.4+ MB\n"
     ]
    }
   ],
   "source": [
    "# check any missing and data types\n",
    "train_data.info()"
   ]
  },
  {
   "cell_type": "markdown",
   "metadata": {},
   "source": [
    "Note :- Fortunately, data integrity is perfect. All non-null, and no mixed types."
   ]
  },
  {
   "cell_type": "code",
   "execution_count": 4,
   "metadata": {},
   "outputs": [
    {
     "name": "stdout",
     "output_type": "stream",
     "text": [
      "Distribuition of Not purchase(0) and Purchase(1): \n",
      "0    83494\n",
      "1     1040\n",
      "Name: purchase, dtype: int64\n",
      "\n",
      "Not purchase 98.77 % of the dataset\n",
      "Purchase 1.23 % of the dataset\n"
     ]
    },
    {
     "data": {
      "image/png": "[encoded data removed]",
      "text/plain": "<Figure size 504x360 with 1 Axes>"
     },
     "metadata": {
      "needs_background": "light",
      "transient": {}
     },
     "output_type": "display_data"
    }
   ],
   "source": [
    "#Lets start looking the difference by Normal and Fraud transactions\n",
    "print(\"Distribuition of Not purchase(0) and Purchase(1): \")\n",
    "print(train_data[\"purchase\"].value_counts())\n",
    "print('')\n",
    "\n",
    "# The classes are heavily skewed we need to solve this issue later.\n",
    "print('Not purchase', round(train_data['purchase'].value_counts()[0]/len(train_data) * 100,2), '% of the dataset')\n",
    "print('Purchase', round(train_data['purchase'].value_counts()[1]/len(train_data) * 100,2), '% of the dataset')\n",
    "\n",
    "plt.figure(figsize=(7,5))\n",
    "sns.countplot(train_data['purchase'])\n",
    "plt.title('Purchases Count \\n (0: No  || 1: Yes)', fontsize=14)\n",
    "plt.xlabel(\"Is Purchase?\", fontsize=15)\n",
    "plt.ylabel(\"Purchase\", fontsize=15)\n",
    "plt.show()"
   ]
  },
  {
   "cell_type": "markdown",
   "metadata": {},
   "source": [
    "To see the count of unique values for each purchase types. The target datasets are imbalanced. Apply SMOTE technques "
   ]
  },
  {
   "cell_type": "code",
   "execution_count": 5,
   "metadata": {},
   "outputs": [
    {
     "data": {
      "image/png": "[encoded data removed]",
      "text/plain": "<Figure size 432x288 with 1 Axes>"
     },
     "metadata": {
      "needs_background": "light",
      "transient": {}
     },
     "output_type": "display_data"
    }
   ],
   "source": [
    "s = train_data['Promotion'].value_counts().plot(kind = 'bar')\n",
    "plt.title('Promotion Events')\n",
    "plt.show()"
   ]
  },
  {
   "cell_type": "code",
   "execution_count": 6,
   "metadata": {},
   "outputs": [
    {
     "data": {
      "text/plain": "array([[<matplotlib.axes._subplots.AxesSubplot object at 0x1a2330e940>,\n        <matplotlib.axes._subplots.AxesSubplot object at 0x1a21e8e8d0>,\n        <matplotlib.axes._subplots.AxesSubplot object at 0x1a2338ee10>],\n       [<matplotlib.axes._subplots.AxesSubplot object at 0x1a233be3c8>,\n        <matplotlib.axes._subplots.AxesSubplot object at 0x1a233e4940>,\n        <matplotlib.axes._subplots.AxesSubplot object at 0x1a2340feb8>],\n       [<matplotlib.axes._subplots.AxesSubplot object at 0x1a2343e470>,\n        <matplotlib.axes._subplots.AxesSubplot object at 0x1a23466a20>,\n        <matplotlib.axes._subplots.AxesSubplot object at 0x1a23466a58>]],\n      dtype=object)"
     },
     "execution_count": 6,
     "metadata": {},
     "output_type": "execute_result"
    },
    {
     "data": {
      "image/png": "[encoded data removed]",
      "text/plain": "<Figure size 432x288 with 9 Axes>"
     },
     "metadata": {
      "needs_background": "light",
      "transient": {}
     },
     "output_type": "display_data"
    }
   ],
   "source": [
    "# Histogram distributin \n",
    "train_data.hist(bins = 20)"
   ]
  },
  {
   "cell_type": "code",
   "execution_count": 7,
   "metadata": {},
   "outputs": [
    {
     "data": {
      "text/html": "<div>\n<style scoped>\n    .dataframe tbody tr th:only-of-type {\n        vertical-align: middle;\n    }\n\n    .dataframe tbody tr th {\n        vertical-align: top;\n    }\n\n    .dataframe thead th {\n        text-align: right;\n    }\n</style>\n<table border=\"1\" class=\"dataframe\">\n  <thead>\n    <tr style=\"text-align: right;\">\n      <th></th>\n      <th>count</th>\n      <th>mean</th>\n      <th>std</th>\n      <th>min</th>\n      <th>25%</th>\n      <th>50%</th>\n      <th>75%</th>\n      <th>max</th>\n    </tr>\n  </thead>\n  <tbody>\n    <tr>\n      <th>ID</th>\n      <td>84534.0</td>\n      <td>62970.972413</td>\n      <td>36418.440539</td>\n      <td>1.000000</td>\n      <td>31467.250000</td>\n      <td>62827.500000</td>\n      <td>94438.750000</td>\n      <td>126184.000000</td>\n    </tr>\n    <tr>\n      <th>purchase</th>\n      <td>84534.0</td>\n      <td>0.012303</td>\n      <td>0.110234</td>\n      <td>0.000000</td>\n      <td>0.000000</td>\n      <td>0.000000</td>\n      <td>0.000000</td>\n      <td>1.000000</td>\n    </tr>\n    <tr>\n      <th>V1</th>\n      <td>84534.0</td>\n      <td>1.500662</td>\n      <td>0.868234</td>\n      <td>0.000000</td>\n      <td>1.000000</td>\n      <td>2.000000</td>\n      <td>2.000000</td>\n      <td>3.000000</td>\n    </tr>\n    <tr>\n      <th>V2</th>\n      <td>84534.0</td>\n      <td>29.973600</td>\n      <td>5.010626</td>\n      <td>7.104007</td>\n      <td>26.591501</td>\n      <td>29.979744</td>\n      <td>33.344593</td>\n      <td>50.375913</td>\n    </tr>\n    <tr>\n      <th>V3</th>\n      <td>84534.0</td>\n      <td>0.000190</td>\n      <td>1.000485</td>\n      <td>-1.684550</td>\n      <td>-0.905350</td>\n      <td>-0.039572</td>\n      <td>0.826206</td>\n      <td>1.691984</td>\n    </tr>\n    <tr>\n      <th>V4</th>\n      <td>84534.0</td>\n      <td>1.679608</td>\n      <td>0.466630</td>\n      <td>1.000000</td>\n      <td>1.000000</td>\n      <td>2.000000</td>\n      <td>2.000000</td>\n      <td>2.000000</td>\n    </tr>\n    <tr>\n      <th>V5</th>\n      <td>84534.0</td>\n      <td>2.327643</td>\n      <td>0.841167</td>\n      <td>1.000000</td>\n      <td>2.000000</td>\n      <td>2.000000</td>\n      <td>3.000000</td>\n      <td>4.000000</td>\n    </tr>\n    <tr>\n      <th>V6</th>\n      <td>84534.0</td>\n      <td>2.502898</td>\n      <td>1.117349</td>\n      <td>1.000000</td>\n      <td>2.000000</td>\n      <td>3.000000</td>\n      <td>4.000000</td>\n      <td>4.000000</td>\n    </tr>\n    <tr>\n      <th>V7</th>\n      <td>84534.0</td>\n      <td>1.701694</td>\n      <td>0.457517</td>\n      <td>1.000000</td>\n      <td>1.000000</td>\n      <td>2.000000</td>\n      <td>2.000000</td>\n      <td>2.000000</td>\n    </tr>\n  </tbody>\n</table>\n</div>",
      "text/plain": "            count          mean           std       min           25%  \\\nID        84534.0  62970.972413  36418.440539  1.000000  31467.250000   \npurchase  84534.0      0.012303      0.110234  0.000000      0.000000   \nV1        84534.0      1.500662      0.868234  0.000000      1.000000   \nV2        84534.0     29.973600      5.010626  7.104007     26.591501   \nV3        84534.0      0.000190      1.000485 -1.684550     -0.905350   \nV4        84534.0      1.679608      0.466630  1.000000      1.000000   \nV5        84534.0      2.327643      0.841167  1.000000      2.000000   \nV6        84534.0      2.502898      1.117349  1.000000      2.000000   \nV7        84534.0      1.701694      0.457517  1.000000      1.000000   \n\n                   50%           75%            max  \nID        62827.500000  94438.750000  126184.000000  \npurchase      0.000000      0.000000       1.000000  \nV1            2.000000      2.000000       3.000000  \nV2           29.979744     33.344593      50.375913  \nV3           -0.039572      0.826206       1.691984  \nV4            2.000000      2.000000       2.000000  \nV5            2.000000      3.000000       4.000000  \nV6            3.000000      4.000000       4.000000  \nV7            2.000000      2.000000       2.000000  "
     },
     "execution_count": 7,
     "metadata": {},
     "output_type": "execute_result"
    }
   ],
   "source": [
    "# Summary Statistics\n",
    "train_data.describe().transpose()"
   ]
  },
  {
   "cell_type": "code",
   "execution_count": 8,
   "metadata": {},
   "outputs": [
    {
     "data": {
      "text/plain": "<matplotlib.axes._subplots.AxesSubplot at 0x1a2369e3c8>"
     },
     "execution_count": 8,
     "metadata": {},
     "output_type": "execute_result"
    },
    {
     "data": {
      "image/png": "[encoded data removed]",
      "text/plain": "<Figure size 1296x1296 with 2 Axes>"
     },
     "metadata": {
      "needs_background": "light",
      "transient": {}
     },
     "output_type": "display_data"
    }
   ],
   "source": [
    "# check Correlation \n",
    "df = train_data.drop(['ID', 'Promotion', 'purchase'] , axis = 1)\n",
    "#correlation map\n",
    "f,ax = plt.subplots(figsize=(18, 18))\n",
    "sns.heatmap(df.corr(), annot=True, linewidths=.5, fmt= '.3f',ax=ax)"
   ]
  },
  {
   "cell_type": "code",
   "execution_count": 9,
   "metadata": {},
   "outputs": [
    {
     "name": "stdout",
     "output_type": "stream",
     "text": [
      "(42364, 10)\n",
      "42364\n",
      "(42170, 10)\n",
      "42170\n"
     ]
    }
   ],
   "source": [
    "# Split dataset in experimenta group and control group\n",
    "promotion_group = train_data[train_data['Promotion']== 'Yes']\n",
    "n_promotion = promotion_group.shape[0]\n",
    "print(promotion_group.shape)\n",
    "print(n_promotion)\n",
    "\n",
    "control_group = train_data[train_data['Promotion'] == 'No']\n",
    "n_control = control_group.shape[0]\n",
    "print(control_group.shape)\n",
    "print(n_control)\n"
   ]
  },
  {
   "cell_type": "code",
   "execution_count": 10,
   "metadata": {},
   "outputs": [
    {
     "name": "stdout",
     "output_type": "stream",
     "text": [
      "0.017019167217448776\n",
      "721\n",
      "0.007564619397676073\n",
      "319\n"
     ]
    }
   ],
   "source": [
    "# Calculate the probability for purchase in experiment and control group\n",
    "\n",
    "p_promotion = list(promotion_group.groupby('purchase').size())[1] /n_promotion\n",
    "\n",
    "purchasers_promotion = promotion_group.groupby('purchase').size()[1]\n",
    "print(p_promotion)\n",
    "print(purchasers_promotion)\n",
    "\n",
    "p_control = list(control_group.groupby('purchase').size())[1] / n_control\n",
    "purchaser_control = control_group.groupby('purchase').size()[1]\n",
    "print(p_control)\n",
    "print(purchaser_control)      "
   ]
  },
  {
   "cell_type": "code",
   "execution_count": 11,
   "metadata": {},
   "outputs": [
    {
     "data": {
      "text/plain": "0.009454547819772702"
     },
     "execution_count": 11,
     "metadata": {},
     "output_type": "execute_result"
    }
   ],
   "source": [
    "#Compute IRR\n",
    "IRR = p_promotion - p_control\n",
    "IRR"
   ]
  },
  {
   "cell_type": "code",
   "execution_count": 12,
   "metadata": {},
   "outputs": [
    {
     "name": "stdout",
     "output_type": "stream",
     "text": [
      "-2334.5999999999995\n"
     ]
    }
   ],
   "source": [
    "# Compute NIR\n",
    "NIR = (10 * purchasers_promotion - 0.15 * n_promotion) - 10 * purchaser_control\n",
    "print(NIR)"
   ]
  },
  {
   "cell_type": "code",
   "execution_count": 13,
   "metadata": {},
   "outputs": [],
   "source": [
    "# Base line prediction of purchase using default setting on the data without modification\n",
    "y = train_data['purchase']\n",
    "X = train_data.iloc[:,3:]"
   ]
  },
  {
   "cell_type": "code",
   "execution_count": 15,
   "metadata": {},
   "outputs": [
    {
     "name": "stdout",
     "output_type": "stream",
     "text": [
      "TEST GROUP\n",
      "Size: 16907\n",
      "Purchase percentage: 0.012302596557638847\n",
      "Not Purchase percentage: 0.9876974034423611\n",
      "\n",
      "TRAIN GROUP\n",
      "Size: 67627\n",
      "Purchase percentage: 0.012302778476052463\n",
      "Not Purchase percentage: 0.9876972215239476\n"
     ]
    }
   ],
   "source": [
    "# split into train / test data sets\n",
    "X_train, X_test, y_train, y_test = train_test_split(X, y, test_size=0.2, random_state=42)\n",
    "\n",
    "# Class balance in test group\n",
    "print(\"TEST GROUP\")\n",
    "print('Size:',y_test.count())\n",
    "print(\"Purchase percentage:\",\n",
    "      y_test.value_counts()[1]/y_test.count())\n",
    "print(\"Not Purchase percentage:\",\n",
    "      y_test.value_counts()[0]/y_test.count())\n",
    "\n",
    "# Class balance in train group\n",
    "print(\"\\nTRAIN GROUP\")\n",
    "print('Size:',y_train.count())\n",
    "print(\"Purchase percentage:\",\n",
    "      y_train.value_counts()[1]/y_train.count())\n",
    "print(\"Not Purchase percentage:\",\n",
    "      y_train.value_counts()[0]/y_train.count())"
   ]
  },
  {
   "cell_type": "markdown",
   "metadata": {},
   "source": [
    "## Baseline Algorithms\n",
    "\n",
    "let start without any modification for feature variables"
   ]
  },
  {
   "cell_type": "code",
   "execution_count": 16,
   "metadata": {},
   "outputs": [
    {
     "name": "stdout",
     "output_type": "stream",
     "text": [
      "TRAIN GROUP\n",
      "\n",
      "Cross-validation accuracy scores: [0.98766801 0.98771183 0.98771183]\n",
      "Mean score: 0.9876972219558714\n",
      "\n",
      "TEST GROUP\n",
      "\n",
      "Accuracy score: 0.9876974034423611\n",
      "\n",
      "Classification report:\n",
      "\n",
      "              precision    recall  f1-score   support\n",
      "\n",
      "           0       0.99      1.00      0.99     16699\n",
      "           1       0.00      0.00      0.00       208\n",
      "\n",
      "   micro avg       0.99      0.99      0.99     16907\n",
      "   macro avg       0.49      0.50      0.50     16907\n",
      "weighted avg       0.98      0.99      0.98     16907\n",
      "\n"
     ]
    },
    {
     "name": "stderr",
     "output_type": "stream",
     "text": [
      "/usr/local/anaconda3/lib/python3.7/site-packages/sklearn/metrics/classification.py:1143: UndefinedMetricWarning: Precision and F-score are ill-defined and being set to 0.0 in labels with no predicted samples.\n",
      "  'precision', 'predicted', average, warn_for)\n",
      "/usr/local/anaconda3/lib/python3.7/site-packages/sklearn/metrics/classification.py:1143: UndefinedMetricWarning: Precision and F-score are ill-defined and being set to 0.0 in labels with no predicted samples.\n",
      "  'precision', 'predicted', average, warn_for)\n",
      "/usr/local/anaconda3/lib/python3.7/site-packages/sklearn/metrics/classification.py:1143: UndefinedMetricWarning: Precision and F-score are ill-defined and being set to 0.0 in labels with no predicted samples.\n",
      "  'precision', 'predicted', average, warn_for)\n"
     ]
    },
    {
     "data": {
      "image/png": "[encoded data removed]",
      "text/plain": "<Figure size 432x288 with 2 Axes>"
     },
     "metadata": {
      "needs_background": "light",
      "transient": {}
     },
     "output_type": "display_data"
    }
   ],
   "source": [
    "# Invoke Classifier\n",
    "clf = LogisticRegression()\n",
    "\n",
    "# Cross-validate on the train data\n",
    "train_cv = cross_val_score(X=X_train,y=y_train,estimator=clf,cv=3)\n",
    "print(\"TRAIN GROUP\")\n",
    "print(\"\\nCross-validation accuracy scores:\",train_cv)\n",
    "print(\"Mean score:\",train_cv.mean())\n",
    "\n",
    "# Now predict on the test group\n",
    "print(\"\\nTEST GROUP\")\n",
    "y_pred = clf.fit(X_train, y_train).predict(X_test)\n",
    "print(\"\\nAccuracy score:\",clf.score(X_test,y_test))\n",
    "\n",
    "# Classification report\n",
    "print('\\nClassification report:\\n')\n",
    "print(classification_report(y_test, y_pred))\n",
    "\n",
    "# Confusion matrix\n",
    "conf_matrix = confusion_matrix(y_test,y_pred)\n",
    "sns.heatmap(conf_matrix, annot=True,fmt='d', cmap=plt.cm.copper)\n",
    "plt.show()"
   ]
  },
  {
   "cell_type": "markdown",
   "metadata": {},
   "source": [
    "The confusion matrix and classification reports reveal that the high scores are merely a reflection of the class imbalance. Since we're using a generalized scoring method, accuracy reflects the recall of both purchase and not purchase. However, since purchase are so few,(0.0012%) their poor recall (0.00%) isn't reflected in the overall accuracy score."
   ]
  },
  {
   "cell_type": "code",
   "execution_count": null,
   "metadata": {},
   "outputs": [],
   "source": [
    "def promotion_strategy(df):\n",
    "    '''\n",
    "    INPUT \n",
    "    df - a dataframe with *only* the columns V1 - V7 (same as train_data)\n",
    "\n",
    "    OUTPUT\n",
    "    promotion_df - np.array with the values\n",
    "                   'Yes' or 'No' related to whether or not an \n",
    "                   individual should recieve a promotion \n",
    "                   should be the length of df.shape[0]\n",
    "                \n",
    "    Ex:\n",
    "    INPUT: df\n",
    "    \n",
    "    V1\tV2\t  V3\tV4\tV5\tV6\tV7\n",
    "    2\t30\t-1.1\t1\t1\t3\t2\n",
    "    3\t32\t-0.6\t2\t3\t2\t2\n",
    "    2\t30\t0.13\t1\t1\t4\t2\n",
    "    \n",
    "    OUTPUT: promotion\n",
    "    \n",
    "    array(['Yes', 'Yes', 'No'])\n",
    "    indicating the first two users would recieve the promotion and \n",
    "    the last should not.\n",
    "    '''\n",
    "    \n",
    "    \n",
    "    \n",
    "    \n",
    "    return promotion"
   ]
  },
  {
   "cell_type": "code",
   "execution_count": null,
   "metadata": {},
   "outputs": [],
   "source": [
    "# This will test your results, and provide you back some information \n",
    "# on how well your promotion_strategy will work in practice\n",
    "\n",
    "test_results(promotion_strategy)"
   ]
  }
 ],
 "metadata": {
  "kernelspec": {
   "display_name": "Python 3.7.4 64-bit",
   "metadata": {
    "interpreter": {
     "hash": "70f9338631b1e814274bb6be12ff2af50260dd3a60751a7a596f31e11ca463b8"
    }
   },
   "name": "python3"
  },
  "language_info": {
   "codemirror_mode": {
    "name": "ipython",
    "version": 3
   },
   "file_extension": ".py",
   "mimetype": "text/x-python",
   "name": "python",
   "nbconvert_exporter": "python",
   "pygments_lexer": "ipython3",
   "version": "3.7.3"
  }
 },
 "nbformat": 4,
 "nbformat_minor": 2
}